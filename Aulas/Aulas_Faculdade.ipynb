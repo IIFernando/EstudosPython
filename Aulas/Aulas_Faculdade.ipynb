{
 "cells": [
  {
   "attachments": {},
   "cell_type": "markdown",
   "metadata": {},
   "source": [
    "Aula 02/05"
   ]
  },
  {
   "cell_type": "code",
   "execution_count": null,
   "metadata": {},
   "outputs": [],
   "source": [
    "import math\n",
    "raio = float(input('Digite o Raio do círculo: '))\n",
    "area = math.pi * raio**2\n",
    "print(f'A area é {area :.2f}')\n",
    "\n",
    "###############################\n",
    "\n",
    "print('# \\n' * 6)\n",
    "\n",
    "###############################\n",
    "\n",
    "peso = float(input('Informe seu peso: '))\n",
    "altura = float(input('Informe seu Altura: '))\n",
    "imc = peso / altura**2\n",
    "print(f'{imc:.2f}')\n",
    "\n",
    "###############################\n",
    "\n",
    "media = 0\n",
    "totN = 0\n",
    "for M in range(0, 3):\n",
    "    \n",
    "    n = float(input('Informe a nota do aluno: '))\n",
    "    peso = int(input('Informe o peso da nota: '))\n",
    "    \n",
    "    media = n * peso\n",
    "    \n",
    "    totN += media\n",
    "\n",
    "print(f'A média ponderada é {totN/9:.2f}')\n",
    "\n",
    "###############################\n",
    "\n",
    "nome = input('Informe seu nome: ')\n",
    "sobrenome = input('Informe seu sobrenome: ')\n",
    "print(f'Olá Sr(a).{nome} {sobrenome}')\n",
    "\n",
    "################################\n",
    "\n",
    "numero = input('Informe o número: ')\n",
    "print(numero[::-1])\n",
    "\n",
    "################################\n",
    "\n",
    "emprestimo = float(input('Informe o valor do emprestimo: '))\n",
    "diasA = int(input('Informe a quantidade de dias atrasados: '))\n",
    "juros = int(input('Informe a taxa de juros: '))\n",
    "taxa = (juros*diasA) /100\n",
    "total = emprestimo + ( taxa * emprestimo)\n",
    "print(total)\n",
    "\n",
    "################################"
   ]
  },
  {
   "attachments": {},
   "cell_type": "markdown",
   "metadata": {},
   "source": [
    "Aula 04/05"
   ]
  },
  {
   "cell_type": "code",
   "execution_count": null,
   "metadata": {},
   "outputs": [],
   "source": [
    "tot = 0\n",
    "count = 0\n",
    "\n",
    "while True:\n",
    "    \n",
    "    valor = float(input('Informe um valor: '))\n",
    "    \n",
    "    if valor != 0:\n",
    "        tot += valor\n",
    "        print('Valor armazenado.')\n",
    "        \n",
    "    else:\n",
    "        media = tot / count\n",
    "        print(f'A média é {media}, Programa encerrado.')\n",
    "        break"
   ]
  },
  {
   "cell_type": "code",
   "execution_count": null,
   "metadata": {},
   "outputs": [],
   "source": [
    "valores = int(input('Quantos valores seram informados: '))\n",
    "tot = 0\n",
    "\n",
    "for i in range(0, valores):\n",
    "    \n",
    "    n = float(input('Informe o valor: '))\n",
    "    tot += n\n",
    "\n",
    "media = tot / valores\n",
    "print(f'A média dos valores digitados é {media}')"
   ]
  },
  {
   "cell_type": "code",
   "execution_count": null,
   "metadata": {},
   "outputs": [],
   "source": [
    "for i in range(0, 50 + 1):\n",
    "    \n",
    "    if i != 37:\n",
    "        print(i, end=' ')\n",
    "        # print(i[-1])"
   ]
  },
  {
   "attachments": {},
   "cell_type": "markdown",
   "metadata": {},
   "source": [
    "Aula 18/05"
   ]
  },
  {
   "cell_type": "code",
   "execution_count": 6,
   "metadata": {},
   "outputs": [
    {
     "name": "stdout",
     "output_type": "stream",
     "text": [
      "FERNANDO\n"
     ]
    }
   ],
   "source": []
  },
  {
   "attachments": {},
   "cell_type": "markdown",
   "metadata": {},
   "source": [
    "Atividade Prática."
   ]
  },
  {
   "cell_type": "code",
   "execution_count": null,
   "metadata": {},
   "outputs": [],
   "source": [
    "# Questão 1\n",
    "nome = 'Fernando Alves de Araujo'\n",
    "ru = '3880995'\n",
    "\n",
    "print(f'Bem vindo a loja do {nome}.')\n",
    "\n",
    "v_produto = float(input('Informe o valor unitário do produto: R$ '))\n",
    "q_produto = int(input('Informe a quantidade do produto'))\n",
    "\n",
    "print(f'O valor sem desconto foi: R$ {q_produto * v_produto:.2f}')\n",
    "\n",
    "if q_produto <= 9:\n",
    "    print(f'O valor sem desconto foi: R$ {q_produto * v_produto:.2f} (desconto 0%)')\n",
    "\n",
    "elif q_produto >= 10 and q_produto <= 99:\n",
    "    desc = (v_produto * q_produto) * 5/100\n",
    "    print(f'O valor com desconto foi: R$ {q_produto * v_produto - desc :.2f} (desconto 5%)')\n",
    "\n",
    "elif q_produto >= 100 and q_produto <= 999:\n",
    "    desc = (v_produto * q_produto) * 10/100\n",
    "    print(f'O valor com desconto foi: R$ {q_produto * v_produto - desc :.2f} (desconto 10%)')\n",
    "\n",
    "else:\n",
    "    desc = (v_produto * q_produto) * 15/100\n",
    "    print(f'O valor com desconto foi: R$ {q_produto * v_produto - desc :.2f} (desconto 15%)')"
   ]
  },
  {
   "cell_type": "code",
   "execution_count": null,
   "metadata": {},
   "outputs": [],
   "source": [
    "# Questão 2\n",
    "\n",
    "nome = 'Fernando Alves de Araujo'\n",
    "ru = '3880995'\n",
    "saldoC = 0\n",
    "\n",
    "print(f'Bem vindo a Lanchonete do {nome}')\n",
    "print(f'''{'*' * 15} Cardápio {'*' * 15}\n",
    "Código\tDescrição\t        Valor(R$)\n",
    "100\tCachorro-Quente\t            9,00\n",
    "101\tCachorro-Quente Duplo\t   11,00\n",
    "102\tX-Egg\t                   12,00\n",
    "103\tX-Salada\t           13,00\n",
    "104\tX-Bacon\t                   14,00\n",
    "105\tX-Tudo\t                   17,00\n",
    "200\tRefrigerante Lata\t    5,00\n",
    "201\tChá Gelado\t            4,00''')\n",
    "\n",
    "def produtos (item):\n",
    "    produtos = {\n",
    "       \"P100\": {\"nome\": \"Cachorro Quente\", \"preco\": 9.00},\n",
    "        \"P101\": {\"nome\": \"Cachorro Quente Duplo\", \"preco\": 11.00},\n",
    "        \"P102\": {\"nome\": \"X-Egg\", \"preco\": 12.00},\n",
    "        \"P103\": {\"nome\": \"X-Salada\", \"preco\": 13.00},\n",
    "        \"P104\": {\"nome\": \"X-Bacon\", \"preco\": 14.00},\n",
    "        \"P105\": {\"nome\": \"X-Tudo\", \"preco\": 17.00},\n",
    "        \"P200\": {\"nome\": \"Refrigerante Lata\", \"preco\": 5.00},\n",
    "        \"P201\": {\"nome\": \"produto 8\", \"preco\": 4.00}\n",
    "    }\n",
    "    return produtos.get(item)\n",
    "\n",
    "while True:\n",
    "\n",
    "    item = input('Entre com o código desejado: ')\n",
    "\n",
    "    nitem = 'P' + item\n",
    "    nome = produtos(nitem).get(\"nome\")\n",
    "    preco = produtos(nitem).get(\"preco\")\n",
    "\n",
    "    print(f'Você pediu {nome} no valor de {preco:.2f}')\n",
    "    \n",
    "    saldoC += preco\n",
    "\n",
    "\n",
    "    print('Deseja pedir mais alguma coisa? ')"
   ]
  },
  {
   "cell_type": "code",
   "execution_count": null,
   "metadata": {},
   "outputs": [],
   "source": [
    "# Questão 3"
   ]
  },
  {
   "cell_type": "code",
   "execution_count": null,
   "metadata": {},
   "outputs": [],
   "source": [
    "# Questão 4"
   ]
  }
 ],
 "metadata": {
  "kernelspec": {
   "display_name": "Python 3",
   "language": "python",
   "name": "python3"
  },
  "language_info": {
   "codemirror_mode": {
    "name": "ipython",
    "version": 3
   },
   "file_extension": ".py",
   "mimetype": "text/x-python",
   "name": "python",
   "nbconvert_exporter": "python",
   "pygments_lexer": "ipython3",
   "version": "3.11.3"
  },
  "orig_nbformat": 4
 },
 "nbformat": 4,
 "nbformat_minor": 2
}
