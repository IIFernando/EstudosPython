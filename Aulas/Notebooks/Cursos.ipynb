{
 "cells": [
  {
   "attachments": {},
   "cell_type": "markdown",
   "metadata": {},
   "source": [
    "Dictionary Comprehension e Set Comprehension"
   ]
  },
  {
   "cell_type": "code",
   "execution_count": null,
   "metadata": {},
   "outputs": [],
   "source": [
    "produto = {\n",
    "    'nome': 'Caneta Azul',\n",
    "    'preco': 2.5,\n",
    "    'categoria': 'Escritório'\n",
    "}\n",
    "\n",
    "dc = {\n",
    "    chave: valor.upper()\n",
    "    if isinstance(valor, str) else valor\n",
    "    for chave, valor \n",
    "    in produto.items()\n",
    "    if chave != 'categoria'\n",
    "}\n",
    "\n",
    "print(dc)\n",
    "\n",
    "s1 = {i for i in range(10)}\n",
    "print(s1)\n"
   ]
  },
  {
   "attachments": {},
   "cell_type": "markdown",
   "metadata": {},
   "source": [
    "Empacotamento e desempacotamento de dicionários"
   ]
  },
  {
   "cell_type": "code",
   "execution_count": null,
   "metadata": {},
   "outputs": [],
   "source": [
    "a, b = 1, 2\n",
    "a, b = b\n",
    "# print(a, b)\n",
    "\n",
    "\n",
    "# (a1, a2), (b1, b2) = pessoa.items()\n",
    "# print(a1, a2)\n",
    "# print(b1, b2)\n",
    "\n",
    "# for chave, valor in pessoa.items():\n",
    "#     print(chave, valor)\n",
    "\n",
    "pessoa = {\n",
    "    'nome': 'Aline',\n",
    "    'sobrenome': 'Souza',\n",
    "}\n",
    "\n",
    "dados_pessoa = {\n",
    "    'idade': 16,\n",
    "    'altura': 1.6,\n",
    "}\n",
    "\n",
    "pessoas_completa = {**pessoa, **dados_pessoa}\n",
    "# print(pessoas_completa)\n",
    "\n",
    "# args e kwargs\n",
    "# args (já vimos)\n",
    "# kwargs - keyword arguments (argumentos nomeados)\n",
    "\n",
    "\n",
    "def mostro_argumentos_nomeados(*args, **kwargs):\n",
    "    print('NÃO NOMEADOS:', args)\n",
    "\n",
    "    for chave, valor in kwargs.items():\n",
    "        print(chave, valor)\n",
    "\n",
    "\n",
    "# mostro_argumentos_nomeados(nome='Joana', qlq=123)\n",
    "# mostro_argumentos_nomeados(**pessoas_completa)\n",
    "\n",
    "configuracoes = {\n",
    "    'arg1': 1,\n",
    "    'arg2': 2,\n",
    "    'arg3': 3,\n",
    "    'arg4': 4,\n",
    "}\n",
    "mostro_argumentos_nomeados(**configuracoes)"
   ]
  },
  {
   "attachments": {},
   "cell_type": "markdown",
   "metadata": {},
   "source": [
    "Função Lambda"
   ]
  },
  {
   "cell_type": "code",
   "execution_count": null,
   "metadata": {},
   "outputs": [],
   "source": [
    "# lista = [\n",
    "#     {'nome': 'Luiz', 'sobrenome': 'Miranda'},\n",
    "#     {'nome': 'Maria', 'sobrenome': 'Oliveira'},\n",
    "#     {'nome': 'Daniel', 'sobrenome': 'Silva'},\n",
    "#     {'nome': 'Eduardo', 'sobrenome': 'Moreira'},\n",
    "#     {'nome': 'Aline', 'sobrenome': 'Souza'},\n",
    "# ]\n",
    "\n",
    "# def exibir(lista):\n",
    "\n",
    "#     for item in lista:\n",
    "#         print(item)\n",
    "#     print()\n",
    "\n",
    "# l1 = sorted(lista, key=lambda item: item['nome'])\n",
    "# l2 = sorted(lista, key=lambda item: item['sobrenome'])\n",
    "\n",
    "# exibir(l1)\n",
    "# exibir(l2)\n",
    "\n",
    "def executa(funcao, *args):\n",
    "    return funcao(*args)\n",
    "\n",
    "\n",
    "def soma(x, y):\n",
    "    return x + y\n",
    "\n",
    "\n",
    "# def cria_multiplicador(multiplicador):\n",
    "#     def multiplica(numero):\n",
    "#         return numero * multiplicador\n",
    "#     return multiplica\n",
    "\n",
    "\n",
    "# duplica = cria_multiplicador(2)\n",
    "\n",
    "# duplica = executa(\n",
    "#     lambda m: lambda n: n * m,\n",
    "#     2\n",
    "# )\n",
    "# print(duplica(2))\n",
    "\n",
    "# print(\n",
    "#     executa(\n",
    "#         lambda x, y: x + y,\n",
    "#         2, 3\n",
    "#     ),\n",
    "# )\n",
    "\n",
    "# print(\n",
    "#     executa(\n",
    "#         lambda *args: sum(args),\n",
    "#         1, 2, 3, 4, 5, 6, 7\n",
    "#     )\n",
    "# )\n",
    "\n",
    "print(\n",
    "    executa(\n",
    "        lambda x, y: x + y,\n",
    "        2, 3\n",
    "    ),\n",
    "    # executa(soma, 2, 3)\n",
    ")"
   ]
  },
  {
   "attachments": {},
   "cell_type": "markdown",
   "metadata": {},
   "source": [
    "Funções"
   ]
  },
  {
   "cell_type": "code",
   "execution_count": null,
   "metadata": {},
   "outputs": [],
   "source": [
    "def funcao(msg='olá', nome='usuário'):\n",
    "    return f'{msg} {nome}'\n",
    "\n",
    "# Higher Order Functions e First-Class Functions\n",
    "def saudacao(msg):\n",
    "    return msg\n",
    "\n",
    "def executa(funcao, msg):\n",
    "    return funcao(msg)\n",
    "\n",
    "v = executa(saudacao, 'Bom dia')\n",
    "\n",
    "# Closure e funções que retornam outras funções.\n",
    "def criar_saudacao(saudacao, nome):\n",
    "    def saudar():\n",
    "        return f'{saudacao}, {nome}!'\n",
    "    return saudar\n",
    "\n",
    "s1 = criar_saudacao('Bom dia', 'Fernando')\n",
    "s2 = criar_saudacao('Boa noite', 'Fernando')\n",
    "\n",
    "print(s1())\n",
    "print(s2())"
   ]
  },
  {
   "attachments": {},
   "cell_type": "markdown",
   "metadata": {},
   "source": [
    "Is instance"
   ]
  },
  {
   "cell_type": "code",
   "execution_count": null,
   "metadata": {},
   "outputs": [],
   "source": [
    "lista = ['a', 1, 1.1, True, [0, 1, 2], (1, 2),\n",
    "         {0, 1}, {'nome': 'Fernando'}]\n",
    "\n",
    "\n",
    "for item in lista:\n",
    "     if isinstance(item, set):\n",
    "         item.add(5)\n",
    "         print(item, isinstance(item, set))\n",
    "\n",
    "     if isinstance(item, str):\n",
    "        \n",
    "        print(item, isinstance(item.upper(), set)) "
   ]
  },
  {
   "attachments": {},
   "cell_type": "markdown",
   "metadata": {},
   "source": [
    "LIST COMPREHENSION"
   ]
  },
  {
   "cell_type": "code",
   "execution_count": null,
   "metadata": {},
   "outputs": [],
   "source": [
    "import pprint\n",
    "# LIST COMPREHENSION\n",
    "\n",
    "print(list(range(10)))\n",
    "\n",
    "lista = []\n",
    "\n",
    "for numero in range(10):\n",
    "    lista.append(numero)\n",
    "print(lista\n",
    "      )\n",
    "\n",
    "lista = [\n",
    "    numero * 2 \n",
    "    for numero in range(10)\n",
    "    ]\n",
    "\n",
    "print(lista)\n",
    "\n",
    "def p(v):\n",
    "    pprint.pprint(v,sort_dicts=False, width=40)\n",
    "\n",
    "produtos = [\n",
    "    {'nome': 'p1', 'preco': 20,},\n",
    "    {'nome': 'p2', 'preco': 10,},\n",
    "    {'nome': 'p3', 'preco': 30,}\n",
    "]\n",
    "\n",
    "novos_produtos = [\n",
    "    {**produto, 'preco': produto['preco'] * 1.05}\n",
    "    if produto['preco'] > 20 else {**produto}\n",
    "    for produto in produtos\n",
    "]\n",
    "\n",
    "print(*novos_produtos, sep='\\n')\n",
    "p(novos_produtos)\n",
    "\n",
    "lista = [n for n in range(10) if n < 5]\n",
    "print(lista)"
   ]
  },
  {
   "attachments": {},
   "cell_type": "markdown",
   "metadata": {},
   "source": [
    "Tipo Dict"
   ]
  },
  {
   "cell_type": "code",
   "execution_count": null,
   "metadata": {},
   "outputs": [],
   "source": [
    "pessoa = {\n",
    "    'nome': 'Fernando Alves',\n",
    "    'sobrenome': 'Araujo',\n",
    "    'idade': 33,\n",
    "    'altura': 1.85,\n",
    "    'endereço': [{'Rua': 'Jonatas Serrano', 'numero': 578}]\n",
    "\n",
    "}\n",
    "\n",
    "print(pessoa['nome'])\n",
    "print(type(pessoa))\n",
    "print()\n",
    "\n",
    "for c in pessoa:\n",
    "    print(c, pessoa[c])"
   ]
  },
  {
   "attachments": {},
   "cell_type": "markdown",
   "metadata": {},
   "source": [
    "Tipo Set"
   ]
  },
  {
   "cell_type": "code",
   "execution_count": null,
   "metadata": {},
   "outputs": [],
   "source": [
    "# s1 = set() #Set vazio\n",
    "# s1 = {1, 2, 3, 3, 3, 1} #Set com dados\n",
    "# # print(s1, type(s1))\n",
    "\n",
    "# # Métodos úteis\n",
    "# # add, update, clear, discard\n",
    "# s1.add(2)\n",
    "# s1.update(('Fernando', 1, 2, 3))\n",
    "# s1.clear()\n",
    "# s1.discard('Fernando')\n",
    "# print(s1)\n",
    "\n",
    "#Operadores Úteis:\n",
    "# União | (union)\n",
    "# Intersecção & (intersection)\n",
    "# Diferença - Itens presentes apenas no set da esquerda\n",
    "# Diferença simétrica ^ Itens que não estão em ambos\n",
    "\n",
    "# s2 = {1, 2, 3}\n",
    "# s3 = {2, 3, 4}\n",
    "# s4 = s2 | s3\n",
    "# s4 = s2 & s3\n",
    "# s4 = s2 - s3\n",
    "# s4 = s2 ^ s3\n",
    "# # print(s4)\n",
    "\n",
    "# #Exemplo de uso:\n",
    "# letras = set()\n",
    "# while True:\n",
    "#     letra = input('Digite: ')\n",
    "#     letras.add(letra.lower())\n",
    "    \n",
    "#     if 'l' in letras:\n",
    "#         print('Parabéns você encontrou a letra misteriosa!')\n",
    "#         break\n",
    "    \n",
    "#     print(letras)\n",
    "\n",
    "lista_de_listas_de_inteiros = [\n",
    "    [1, 2, 3, 4, 5, 6, 7, 8, 9, 10],\n",
    "    [9, 1, 8, 9, 9, 7, 2, 1, 6, 8],\n",
    "    [1, 3, 2, 2, 8, 6, 5, 9, 6, 7],\n",
    "    [3, 8, 2, 8, 6, 7, 7, 3, 1, 9],\n",
    "    [4, 8, 8, 8, 5, 1, 10, 3, 1, 7],\n",
    "    [1, 3, 7, 2, 2, 1, 5, 1, 9, 9],\n",
    "    [10, 2, 2, 1, 3, 5, 10, 5, 10, 1],\n",
    "    [1, 6, 1, 5, 1, 1, 1, 4, 7, 3],\n",
    "    [1, 3, 7, 1, 10, 5, 9, 2, 5, 7],\n",
    "    [4, 7, 6, 5, 2, 9, 2, 1, 2, 1],\n",
    "    [5, 3, 1, 8, 5, 7, 1, 8, 8, 7],\n",
    "    [10, 9, 8, 7, 6, 5, 4, 3, 2, 1],\n",
    "]\n",
    "    \n",
    "def encontrar_duplicado(Lista_de_inteiros):\n",
    "    numeros_checados =set()\n",
    "    primeiro_dublicado = -1\n",
    "    \n",
    "    for numero in Lista_de_inteiros:\n",
    "        if numero in numeros_checados:\n",
    "            primeiro_dublicado = numero\n",
    "            break\n",
    "        numeros_checados.add(numero)\n",
    "    return primeiro_dublicado\n",
    "\n",
    "for lista in lista_de_listas_de_inteiros:\n",
    "    print(\n",
    "        lista,\n",
    "        encontrar_duplicado(lista)\n",
    "    )"
   ]
  },
  {
   "attachments": {},
   "cell_type": "markdown",
   "metadata": {},
   "source": [
    "Valores Truthy e Falsy, Tipos Mutáveis e Imutáveis"
   ]
  },
  {
   "cell_type": "code",
   "execution_count": 1,
   "metadata": {},
   "outputs": [
    {
     "name": "stdout",
     "output_type": "stream",
     "text": [
      "TESTE truthy\n",
      "lista=[] falsy\n",
      "dicionario={} falsy\n",
      "conjunto=set() falsy\n",
      "tupla=() falsy\n",
      "string='' falsy\n",
      "0 falsy\n",
      "flutuante=0.0 falsy\n",
      "nada=None falsy\n",
      "falso=False falsy\n",
      "intervalo=range(0, 0) falsy\n"
     ]
    }
   ],
   "source": [
    "lista = []\n",
    "dicionario = {}\n",
    "conjunto = set()\n",
    "tupla = ()\n",
    "string = ''\n",
    "inteiro = 0\n",
    "flutuante = 0.0\n",
    "nada = None\n",
    "falso = False\n",
    "intervalo = range(0)\n",
    "\n",
    "def falsy(valor):\n",
    "    return 'falsy' if not valor else 'truthy'\n",
    "\n",
    "print(f'TESTE', falsy('TESTE'))\n",
    "print(f'{lista=}', falsy(lista))\n",
    "print(f'{dicionario=}', falsy(dicionario))\n",
    "print(f'{conjunto=}', falsy(conjunto))\n",
    "print(f'{tupla=}', falsy(conjunto))\n",
    "print(f'{string=}', falsy(string))\n",
    "print(f'{inteiro}', falsy(inteiro))\n",
    "print(f'{flutuante=}', falsy(flutuante))\n",
    "print(f'{nada=}', falsy(nada))\n",
    "print(f'{falso=}', falsy(falso))\n",
    "print(f'{intervalo=}', falsy(intervalo))\n"
   ]
  },
  {
   "attachments": {},
   "cell_type": "markdown",
   "metadata": {},
   "source": [
    "dir, hasattr e getattr em Python"
   ]
  },
  {
   "cell_type": "code",
   "execution_count": null,
   "metadata": {},
   "outputs": [],
   "source": [
    "string = 'luiz'\n",
    "metodo = 'upper'\n",
    "\n",
    "if hasattr(string, metodo):\n",
    "    print('Existe upper')\n",
    "    print(getattr(string, metodo))\n",
    "    print(string)"
   ]
  },
  {
   "attachments": {},
   "cell_type": "markdown",
   "metadata": {},
   "source": [
    "Mais detalhes sobre Iterables e Iterators (Iteráveis e Iteradores) e Generator expression, Iterables e Iterators em Python"
   ]
  },
  {
   "cell_type": "code",
   "execution_count": null,
   "metadata": {},
   "outputs": [],
   "source": [
    "import sys\n",
    "\n",
    "iterable = ['Eu', 'Tenho', '__iter__']\n",
    "iterator = iter(iterable) # Tem _iter_ e _next_\n",
    "\n",
    "generator = (n for n in range (10000000))\n",
    "\n",
    "print(sys.getsizeof(generator))\n",
    "\n",
    "for n in generator:\n",
    "    print(n)"
   ]
  },
  {
   "attachments": {},
   "cell_type": "markdown",
   "metadata": {},
   "source": [
    "Introdução às Generator functions em Python"
   ]
  },
  {
   "cell_type": "code",
   "execution_count": null,
   "metadata": {},
   "outputs": [],
   "source": [
    "def generator (n=0):\n",
    "    yield 1 #Pausa a função.\n",
    "    print('Continuado')\n",
    "    yield 2 # Pausa.\n",
    "    print('Mais uma vez...')\n",
    "    yield 3\n",
    "\n",
    "gen = generator(n=0)\n",
    "print(next(gen))\n",
    "print(next(gen))\n",
    "print(next(gen))"
   ]
  }
 ],
 "metadata": {
  "kernelspec": {
   "display_name": "Python 3",
   "language": "python",
   "name": "python3"
  },
  "language_info": {
   "codemirror_mode": {
    "name": "ipython",
    "version": 3
   },
   "file_extension": ".py",
   "mimetype": "text/x-python",
   "name": "python",
   "nbconvert_exporter": "python",
   "pygments_lexer": "ipython3",
   "version": "3.11.3"
  },
  "orig_nbformat": 4
 },
 "nbformat": 4,
 "nbformat_minor": 2
}
